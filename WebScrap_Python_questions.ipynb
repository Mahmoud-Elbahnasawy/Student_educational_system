{
 "cells": [
  {
   "cell_type": "code",
   "execution_count": 1,
   "id": "9ba5db8a",
   "metadata": {},
   "outputs": [],
   "source": [
    "#import needed packages\n",
    "from bs4 import BeautifulSoup\n",
    "import pandas as pd"
   ]
  },
  {
   "cell_type": "code",
   "execution_count": 2,
   "id": "cace75d5",
   "metadata": {},
   "outputs": [],
   "source": [
    "# i will scrap a web page locally saved on my pc so i am loading it.\n",
    "with open('F:\\\\50+ Python MCQ With Answers.html',encoding = \"utf-8\") as file:\n",
    "    soup = BeautifulSoup(file,\"lxml\")"
   ]
  },
  {
   "cell_type": "code",
   "execution_count": 3,
   "id": "d08c7884",
   "metadata": {},
   "outputs": [],
   "source": [
    "#getting question section from the whole html page\n",
    "Whole_question_data = soup.find_all(\"section\",{\"class\":\"ibpage-mcq-problems__item\"})"
   ]
  },
  {
   "cell_type": "code",
   "execution_count": 4,
   "id": "28dadb02",
   "metadata": {
    "scrolled": true
   },
   "outputs": [
    {
     "data": {
      "text/plain": [
       "50"
      ]
     },
     "execution_count": 4,
     "metadata": {},
     "output_type": "execute_result"
    }
   ],
   "source": [
    "#check for the number of questions\n",
    "len(Whole_question_data)"
   ]
  },
  {
   "cell_type": "code",
   "execution_count": 5,
   "id": "d4b4a170",
   "metadata": {
    "scrolled": true
   },
   "outputs": [],
   "source": [
    "# getting Question numbers in a list.\n",
    "question_number_list = []\n",
    "for i in range(len(Whole_question_data)):\n",
    "    question_number_list.append(Whole_question_data[i].div.span.text[:-2])\n",
    "#uncomment to preview\n",
    "#print(question_number_list)         # check the list\n",
    "#print(len(question_number_list))    # check for list's length"
   ]
  },
  {
   "cell_type": "code",
   "execution_count": 6,
   "id": "ff06352a",
   "metadata": {
    "scrolled": true
   },
   "outputs": [],
   "source": [
    "#getting questions list\n",
    "Questions_list = []\n",
    "for i in range(len(Whole_question_data)):\n",
    "    Questions_list.append(Whole_question_data[i].p.text)\n",
    "#uncomment to preview\n",
    "#print(Questions_list)         # check the list\n",
    "#print(len(Questions_list))    # check for list's length"
   ]
  },
  {
   "cell_type": "code",
   "execution_count": 7,
   "id": "a9de619e",
   "metadata": {
    "scrolled": false
   },
   "outputs": [],
   "source": [
    "# getting code sections if they exist\n",
    "code_section_list = []\n",
    "for i in range(len(Whole_question_data)):\n",
    "    try:                   #using try and except is because some times this code section may not exist in the source html\n",
    "        dummy_code_list = Whole_question_data[i].find_all(\"code\")\n",
    "        code_section_list.append(dummy_code_list[0].text)\n",
    "    except :\n",
    "        code_section_list.append(\"Null\")\n",
    "#uncomment to preview\n",
    "#print(code_section_list)\n",
    "#print(len(code_section_list))"
   ]
  },
  {
   "cell_type": "code",
   "execution_count": 8,
   "id": "24805775",
   "metadata": {},
   "outputs": [],
   "source": [
    "# here i am trying to get options for each question\n",
    "mcq_soup = soup.find_all(\"div\",{\"class\":\"ibpage-mcq-problems__checkbox-content\"})\n",
    "#uncomment to preview\n",
    "#print(mcq_soup)"
   ]
  },
  {
   "cell_type": "code",
   "execution_count": 9,
   "id": "5c6971e5",
   "metadata": {},
   "outputs": [],
   "source": [
    "# we have to clean the data from these html tags and saving the result in a list.\n",
    "notclaen_mcq_list = []\n",
    "for i in range(len(mcq_soup)):\n",
    "    notclaen_mcq_list.append(mcq_soup[i].text)\n",
    "#uncomment to preview\n",
    "#print(notclaen_mcq_list)"
   ]
  },
  {
   "cell_type": "code",
   "execution_count": 10,
   "id": "a9623d63",
   "metadata": {},
   "outputs": [],
   "source": [
    "# removing excess text in a new list.\n",
    "cleaned_mcq = []\n",
    "for i in range(len(notclaen_mcq_list)):\n",
    "    cleaned_mcq.append(notclaen_mcq_list[i][1:(len(notclaen_mcq_list[i])-1)])\n",
    "#uncomment to preview\n",
    "#print(cleaned_mcq)"
   ]
  },
  {
   "cell_type": "code",
   "execution_count": 11,
   "id": "912a253d",
   "metadata": {
    "scrolled": true
   },
   "outputs": [],
   "source": [
    "# in my case i want four list each list is having an option for a question ordered in a way the the first element of each\n",
    "# list is the first,second,third and fourth option for each question\n",
    "\n",
    "option1_list = []\n",
    "option2_list = []\n",
    "option3_list = []\n",
    "option4_list = []\n",
    "\n",
    "for i in range(0,len(cleaned_mcq),4):\n",
    "    option1_list.append(cleaned_mcq[i])\n",
    "    option2_list.append(cleaned_mcq[i+1])\n",
    "    option3_list.append(cleaned_mcq[i+2])\n",
    "    option4_list.append(cleaned_mcq[i+3])    \n",
    "# uncomment to preview\n",
    "#print(option1_list)\n",
    "#print(\"-\"*90)             \n",
    "#print(option2_list)\n",
    "#print(\"-\"*90)\n",
    "#print(option3_list)\n",
    "#print(\"-\"*90)\n",
    "#print(option4_list)"
   ]
  },
  {
   "cell_type": "code",
   "execution_count": 12,
   "id": "3a9ee4cf",
   "metadata": {},
   "outputs": [],
   "source": [
    "# getting correct answers list\n",
    "correct_answer_list = []\n",
    "for i in range(len(Whole_question_data)):\n",
    "    dummy_correct_answer_list = Whole_question_data[i].find_all(\"p\")\n",
    "    correct_answer_list.append(dummy_correct_answer_list[-1].text)\n",
    "#uncommet to preview\n",
    "#print(correct_answer_list)\n",
    "#print(len(correct_answer_list))"
   ]
  },
  {
   "cell_type": "code",
   "execution_count": 13,
   "id": "dcc1eead",
   "metadata": {},
   "outputs": [],
   "source": [
    "# we need to save our data in a dataframe called df\n",
    "df = pd.DataFrame(list(zip(question_number_list,\n",
    "                          Questions_list,\n",
    "                          code_section_list,\n",
    "                          option1_list,\n",
    "                          option2_list,\n",
    "                          option3_list,\n",
    "                          option4_list,\n",
    "                          correct_answer_list)),\n",
    "                 columns = ['Q_id',\n",
    "                           'Q_text',\n",
    "                           'code_Section',\n",
    "                           'op_1',\n",
    "                           'op_2',\n",
    "                           'op_3',\n",
    "                           'op_4',\n",
    "                           'correct_answer'])"
   ]
  },
  {
   "cell_type": "code",
   "execution_count": 14,
   "id": "abb89078",
   "metadata": {},
   "outputs": [],
   "source": [
    "#uncomment to preview\n",
    "#df.head()"
   ]
  },
  {
   "cell_type": "code",
   "execution_count": 15,
   "id": "e7def260",
   "metadata": {},
   "outputs": [],
   "source": [
    "# here saving the text as csv file to be sharable\n",
    "df.to_csv('scraped_questions.csv', index = False)"
   ]
  }
 ],
 "metadata": {
  "kernelspec": {
   "display_name": "Python 3 (ipykernel)",
   "language": "python",
   "name": "python3"
  },
  "language_info": {
   "codemirror_mode": {
    "name": "ipython",
    "version": 3
   },
   "file_extension": ".py",
   "mimetype": "text/x-python",
   "name": "python",
   "nbconvert_exporter": "python",
   "pygments_lexer": "ipython3",
   "version": "3.9.7"
  }
 },
 "nbformat": 4,
 "nbformat_minor": 5
}
